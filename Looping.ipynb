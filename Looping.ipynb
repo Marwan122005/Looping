{
 "cells": [
  {
   "cell_type": "code",
   "execution_count": 1,
   "id": "76b16d0d",
   "metadata": {},
   "outputs": [
    {
     "name": "stdout",
     "output_type": "stream",
     "text": [
      "1 2 3 4 5 6 7 8 9 10 "
     ]
    }
   ],
   "source": [
    "#Mencetak angka 1-10\n",
    "\n",
    "for i in range(1,11):\n",
    "    print(i, end=\" \")"
   ]
  },
  {
   "cell_type": "code",
   "execution_count": 13,
   "id": "a8fa3c26",
   "metadata": {},
   "outputs": [
    {
     "name": "stdout",
     "output_type": "stream",
     "text": [
      "10 20 30 40 50 60 70 80 90 100 "
     ]
    }
   ],
   "source": [
    "#Mencetak angka 10 20 30 ---100\n",
    "\n",
    "for i in range(1,11):\n",
    "    print(i*10, end=\" \")"
   ]
  },
  {
   "cell_type": "code",
   "execution_count": 14,
   "id": "d441bcb3",
   "metadata": {},
   "outputs": [
    {
     "name": "stdout",
     "output_type": "stream",
     "text": [
      "10 20 30 40 50 60 70 80 90 100 "
     ]
    }
   ],
   "source": [
    "#Mencetak angka 10 20 30 ---100\n",
    "\n",
    "for i in range(10,101,10):\n",
    "    print(i, end=\" \")"
   ]
  },
  {
   "cell_type": "code",
   "execution_count": 15,
   "id": "6d6b4ba0",
   "metadata": {},
   "outputs": [
    {
     "name": "stdout",
     "output_type": "stream",
     "text": [
      "10 9 8 7 6 5 4 3 2 1 "
     ]
    }
   ],
   "source": [
    "for i in range(10,0,-1):\n",
    "    print(11 - i, end=\" \")"
   ]
  },
  {
   "cell_type": "code",
   "execution_count": 23,
   "id": "052c5562",
   "metadata": {},
   "outputs": [
    {
     "name": "stdout",
     "output_type": "stream",
     "text": [
      "10 9 8 7 6 5 4 3 2 1 "
     ]
    }
   ],
   "source": [
    "for i in range(10,0,-1):\n",
    "    print(i, end=\" \")"
   ]
  },
  {
   "cell_type": "code",
   "execution_count": 42,
   "id": "c23958b7",
   "metadata": {},
   "outputs": [
    {
     "name": "stdout",
     "output_type": "stream",
     "text": [
      "1 -2 3 -4 5 -6 7 -8 9 -10 "
     ]
    }
   ],
   "source": [
    "#mencetak angka 1 -2 3 -4 5 -6 ... 10\n",
    "sign = -1\n",
    "for i in range(1,11):\n",
    "    sign = sign * -1  \n",
    "    print(sign*i, end=\" \")"
   ]
  },
  {
   "cell_type": "code",
   "execution_count": 61,
   "id": "37a14132",
   "metadata": {},
   "outputs": [
    {
     "name": "stdout",
     "output_type": "stream",
     "text": [
      "Isikan bilangan :4\n",
      "4! adalah 24\n",
      "4 * 3 * 2 * 1 = 24\n"
     ]
    }
   ],
   "source": [
    "#mencetak bilangan faktorial\n",
    "# input = 3, output = 3 * 2 * 1 = 6\n",
    "# input = 4, output = 4 * 3 * 1 = 24\n",
    "\n",
    "bil = int(input('Isikan bilangan :'))\n",
    "\n",
    "hasil = 1\n",
    "label = \"\"\n",
    "for i in range (1, bil+1):\n",
    "    hasil = hasil * i\n",
    "    if i < bil:\n",
    "        label = label + str((bil+1) - i) + \" * \"\n",
    "    else:\n",
    "        label = label + str((bil+1) - i)    \n",
    "        \n",
    "print(f\"{bil}! adalah {hasil}\")\n",
    "print(f\"{label} = {hasil}\")"
   ]
  },
  {
   "cell_type": "code",
   "execution_count": 65,
   "id": "9042fd00",
   "metadata": {},
   "outputs": [
    {
     "name": "stdout",
     "output_type": "stream",
     "text": [
      "Isikan bilangan :6\n",
      "Isikan pangkat :2\n",
      "6 pangkat 2 adalah 36\n"
     ]
    }
   ],
   "source": [
    "#Menghitung pangkat\n",
    "\n",
    "bil = int(input(\"Isikan bilangan :\"))\n",
    "pangkat = int(input(\"Isikan pangkat :\"))\n",
    "hasil = 1\n",
    "for i in range (1, pangkat+1):\n",
    "    hasil *= bil\n",
    "        \n",
    "print(f\"{bil} pangkat {pangkat} adalah {hasil}\")\n"
   ]
  },
  {
   "cell_type": "code",
   "execution_count": 88,
   "id": "3f516969",
   "metadata": {},
   "outputs": [
    {
     "name": "stdout",
     "output_type": "stream",
     "text": [
      "Isikan Bilangan:2\n",
      "2 adalah bilangan prima\n"
     ]
    }
   ],
   "source": [
    "#Mengecek bilangan Prima atau Bukan\n",
    "#Bil. prima adalah Bilangan yang\n",
    "#hanya habis dibagi dengan 1 dan bilangan itu sendiri => 2 faktor\n",
    "\n",
    "bil = int (input(\"Isikan Bilangan:\"))\n",
    "jumlah = 0\n",
    "for i in range (1, bil +1):\n",
    "    sisa = bil % 1\n",
    "    if sisa == 0:\n",
    "        jumlah = jumlah + 1\n",
    "if jumlah ==2:\n",
    "        print(f\"{bil} adalah bilangan prima\")\n",
    "else:\n",
    "    print(f\"{bil} bukan bilangan prima\")\n",
    "        "
   ]
  },
  {
   "cell_type": "code",
   "execution_count": 3,
   "id": "2d19de25",
   "metadata": {},
   "outputs": [
    {
     "name": "stdout",
     "output_type": "stream",
     "text": [
      "isikan bilangan:3\n",
      "3 adalah Bukan bilangan Prima\n"
     ]
    }
   ],
   "source": [
    "#Mengecek bilangan Prima atau Bukan\n",
    "#Bil. prima adalah Bilangan yang\n",
    "#hanya habis dibagi dengan 1 dan bilangan itu sendiri => 2 faktor\n",
    "\n",
    "bil = int(input('isikan bilangan:'))\n",
    "jumlah = 0\n",
    "for i in range (2,bil):\n",
    "    sisa = bil % i\n",
    "    if sisa == 0:\n",
    "        keterangan = \"Bukan bilangan Prima\"\n",
    "        break\n",
    "print(f\"{bil} adalah {keterangan}\")\n",
    "\n",
    "        "
   ]
  },
  {
   "cell_type": "code",
   "execution_count": 4,
   "id": "74b4bab8",
   "metadata": {},
   "outputs": [
    {
     "name": "stdout",
     "output_type": "stream",
     "text": [
      "1 2 3 4 5 \n",
      "1 2 3 4 6 7 8 9 "
     ]
    }
   ],
   "source": [
    "#break and continue\n",
    "\n",
    "for i in range(1,100):\n",
    "    print(i, end= \" \")\n",
    "    if i==5:\n",
    "        break\n",
    "print()\n",
    "for j in range(1,10):\n",
    "    if j ==5:\n",
    "        continue\n",
    "    print(j,end=\" \")"
   ]
  },
  {
   "cell_type": "code",
   "execution_count": 5,
   "id": "b2cce26e",
   "metadata": {},
   "outputs": [
    {
     "name": "stdout",
     "output_type": "stream",
     "text": [
      "Isikan Kalimat: belajar\n",
      "jumlah huruf a: 2\n"
     ]
    }
   ],
   "source": [
    "#looping untuk string menghitung huruf vokal a=?, i=?, u=?, e=?, o=?, \n",
    "kalimat = input (\"Isikan Kalimat: \")\n",
    "vokal_a = 0\n",
    "for i in kalimat:\n",
    "    if i=='a':\n",
    "        vokal_a +=1\n",
    "        \n",
    "print(f\"jumlah huruf a: {vokal_a}\")\n",
    "        \n",
    "        \n"
   ]
  },
  {
   "cell_type": "code",
   "execution_count": 11,
   "id": "8c585a00",
   "metadata": {},
   "outputs": [
    {
     "name": "stdout",
     "output_type": "stream",
     "text": [
      "Isikan Kalimat: Vokal\n",
      "jumlah huruf a: 1\n",
      "jumlah huruf i: 0\n",
      "jumlah huruf u: 0\n",
      "jumlah huruf e: 0\n",
      "jumlah huruf o: 1\n",
      "jumlah huruf vokal = 2\n"
     ]
    }
   ],
   "source": [
    "#looping untuk string menghitung huruf vokal a=?, i=?, u=?, e=?, o=?, \n",
    "kalimat = input (\"Isikan Kalimat: \")\n",
    "vokal_a = 0\n",
    "vokal_i = 0\n",
    "vokal_u = 0\n",
    "vokal_e = 0\n",
    "vokal_o = 0\n",
    "for i in kalimat:\n",
    "    if i=='a':\n",
    "        vokal_a +=1\n",
    "    elif i=='i':\n",
    "        vokal_i +=1\n",
    "    elif i=='u':\n",
    "        vokal_u +=1\n",
    "    elif i=='e':\n",
    "        vokal_e +=1\n",
    "    elif i=='o':\n",
    "        vokal_o +=1\n",
    "jumlah = vokal_a + vokal_i + vokal_u + vokal_e  + vokal_o  \n",
    "\n",
    "print(f\"jumlah huruf a: {vokal_a}\")\n",
    "print(f\"jumlah huruf i: {vokal_i}\")\n",
    "print(f\"jumlah huruf u: {vokal_u}\")\n",
    "print(f\"jumlah huruf e: {vokal_e}\")\n",
    "print(f\"jumlah huruf o: {vokal_o}\")\n",
    "print(f\"jumlah huruf vokal = {jumlah}\")\n",
    "\n",
    "                                        \n",
    "        \n"
   ]
  },
  {
   "cell_type": "code",
   "execution_count": null,
   "id": "081d861e",
   "metadata": {},
   "outputs": [
    {
     "name": "stdout",
     "output_type": "stream",
     "text": [
      "Isikan Kalimat: katak\n",
      "Isikan Kalimat: katak\n",
      "Isikan Kalimat: katak\n",
      "Isikan Kalimat: katakj\n",
      "Isikan Kalimat: katak\n",
      "Isikan Kalimat: \n",
      "Isikan Kalimat: \n",
      "Isikan Kalimat: \n",
      "Isikan Kalimat: \n"
     ]
    }
   ],
   "source": [
    "#kalimat palindrome atau bukan\n",
    "#palindrome adalah kalimat yang dibaca dari kiri ke kanan = kanan ke kiri\n",
    "#katak => palindrome\n",
    "#kasur rusak\n",
    "ulang = \"Y\"\n",
    "while(ulang==\"Y\"):\n",
    "    kalimat = input('Isikan Kalimat: ')\n",
    "    panjang = len(kalimat)\n",
    "    keterangan = \"palindrome\"\n",
    "    for i in range(0,panjang):\n",
    "        kika = kalimat [i].lower()\n",
    "        kaki = kalimat [panjang - i-1].lower()\n",
    "        if kika!=kaki:\n",
    "            keterangan =\"bukan palindrome\"\n",
    "            break\n",
    "print(f\"{keterangan}\")\n",
    "jawab=\"\"\n",
    "while(jawab!=\"Y\"and jawab !=\"T\"):\n",
    "    jawab = input(\"apakah mau mengulang program(Y/T):\")\n",
    "    ulang = jawab\n"
   ]
  },
  {
   "cell_type": "code",
   "execution_count": 1,
   "id": "c0a14aa7",
   "metadata": {},
   "outputs": [
    {
     "name": "stdout",
     "output_type": "stream",
     "text": [
      "i:1 dan j:1\n",
      "i:1 dan j:2\n",
      "i:1 dan j:3\n",
      "i:1 dan j:4\n",
      "i:2 dan j:1\n",
      "i:2 dan j:2\n",
      "i:2 dan j:3\n",
      "i:2 dan j:4\n",
      "i:3 dan j:1\n",
      "i:3 dan j:2\n",
      "i:3 dan j:3\n",
      "i:3 dan j:4\n",
      "i:4 dan j:1\n",
      "i:4 dan j:2\n",
      "i:4 dan j:3\n",
      "i:4 dan j:4\n"
     ]
    }
   ],
   "source": [
    "#nested for\n",
    "for i in range(1,5):\n",
    "    for j in range(1,5):\n",
    "        print(f\"i:{i} dan j:{j}\")"
   ]
  }
 ],
 "metadata": {
  "kernelspec": {
   "display_name": "Python 3 (ipykernel)",
   "language": "python",
   "name": "python3"
  },
  "language_info": {
   "codemirror_mode": {
    "name": "ipython",
    "version": 3
   },
   "file_extension": ".py",
   "mimetype": "text/x-python",
   "name": "python",
   "nbconvert_exporter": "python",
   "pygments_lexer": "ipython3",
   "version": "3.9.12"
  }
 },
 "nbformat": 4,
 "nbformat_minor": 5
}
